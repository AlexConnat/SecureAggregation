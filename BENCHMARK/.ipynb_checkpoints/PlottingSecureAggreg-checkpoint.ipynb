{
 "cells": [
  {
   "cell_type": "code",
   "execution_count": 1,
   "metadata": {},
   "outputs": [],
   "source": [
    "import pandas as pd\n",
    "from collections import Counter\n",
    "import numpy as np\n",
    "import os"
   ]
  },
  {
   "cell_type": "code",
   "execution_count": 69,
   "metadata": {},
   "outputs": [],
   "source": [
    "DDF = []\n",
    "\n",
    "for i in range(3,21):\n",
    "    filename = f'1DROP/benchmark_{i}c_1drop.csv'\n",
    "    df = pd.read_csv(filename)\n",
    "    DDF.append(df)"
   ]
  },
  {
   "cell_type": "code",
   "execution_count": 71,
   "metadata": {},
   "outputs": [
    {
     "name": "stdout",
     "output_type": "stream",
     "text": [
      "3 clients:\n",
      "Communication:  2.068349468708038\n",
      "Computation:    0.0594944953918457\n",
      "TOTAL:          2.127843964099884\n",
      "-------------------------\n",
      "4 clients:\n",
      "Communication:  2.1004005074501038\n",
      "Computation:    0.0890613317489624\n",
      "TOTAL:          2.1894618391990663\n",
      "-------------------------\n",
      "5 clients:\n",
      "Communication:  2.1331531286239622\n",
      "Computation:    0.11965646743774415\n",
      "TOTAL:          2.2528095960617063\n",
      "-------------------------\n",
      "6 clients:\n",
      "Communication:  2.1675285220146177\n",
      "Computation:    0.1506371259689331\n",
      "TOTAL:          2.318165647983551\n",
      "-------------------------\n",
      "7 clients:\n",
      "Communication:  2.1988831758499146\n",
      "Computation:    0.1819867491722107\n",
      "TOTAL:          2.3808699250221252\n",
      "-------------------------\n",
      "8 clients:\n",
      "Communication:  2.249234700202942\n",
      "Computation:    0.21319514513015747\n",
      "TOTAL:          2.4624298453330993\n",
      "-------------------------\n",
      "9 clients:\n",
      "Communication:  2.3340596914291383\n",
      "Computation:    0.2475517988204956\n",
      "TOTAL:          2.581611490249634\n",
      "-------------------------\n",
      "10 clients:\n",
      "Communication:  2.3779318571090697\n",
      "Computation:    0.2792297601699829\n",
      "TOTAL:          2.6571616172790526\n",
      "-------------------------\n",
      "11 clients:\n",
      "Communication:  2.421019423007965\n",
      "Computation:    0.3142442345619202\n",
      "TOTAL:          2.735263657569885\n",
      "-------------------------\n",
      "12 clients:\n",
      "Communication:  2.4762385964393614\n",
      "Computation:    0.347767972946167\n",
      "TOTAL:          2.8240065693855283\n",
      "-------------------------\n",
      "13 clients:\n",
      "Communication:  2.5280197381973264\n",
      "Computation:    0.3849244832992553\n",
      "TOTAL:          2.9129442214965815\n",
      "-------------------------\n",
      "14 clients:\n",
      "Communication:  2.5730427742004394\n",
      "Computation:    0.41749805212020874\n",
      "TOTAL:          2.990540826320648\n",
      "-------------------------\n",
      "15 clients:\n",
      "Communication:  2.6183313012123106\n",
      "Computation:    0.4567147374153137\n",
      "TOTAL:          3.075046038627624\n",
      "-------------------------\n",
      "16 clients:\n",
      "Communication:  2.6660732865333556\n",
      "Computation:    0.4910825133323669\n",
      "TOTAL:          3.1571557998657225\n",
      "-------------------------\n",
      "17 clients:\n",
      "Communication:  2.8832998514175414\n",
      "Computation:    0.5341604351997375\n",
      "TOTAL:          3.417460286617279\n",
      "-------------------------\n",
      "18 clients:\n",
      "Communication:  2.9786273717880247\n",
      "Computation:    0.5689080119132995\n",
      "TOTAL:          3.5475353837013244\n",
      "-------------------------\n",
      "19 clients:\n",
      "Communication:  3.0642642974853516\n",
      "Computation:    0.613189971446991\n",
      "TOTAL:          3.6774542689323426\n",
      "-------------------------\n",
      "20 clients:\n",
      "Communication:  3.165748977661133\n",
      "Computation:    0.6476352095603942\n",
      "TOTAL:          3.8133841872215273\n",
      "-------------------------\n"
     ]
    }
   ],
   "source": [
    "TIMES = []\n",
    "\n",
    "for i, df in enumerate(DDF):\n",
    "    \n",
    "    print(i+3, 'clients:')\n",
    "    \n",
    "    Round0Comp = df['Round0Comp'].mean()\n",
    "    Round1Comp = df['Round1Comp'].mean()\n",
    "    Round2Comp = df['Round2Comp'].mean()\n",
    "    Round3Comp = df['Round3Comp'].mean()\n",
    "\n",
    "    Round0Comm = df['Round0Comm'].mean()\n",
    "    Round1Comm = df['Round1Comm'].mean()\n",
    "    Round2Comm = df['Round2Comm'].mean()\n",
    "    Round3Comm = df['Round3Comm'].mean()\n",
    "    \n",
    "    TotalComm = Round1Comm + Round2Comm + Round3Comm\n",
    "    TotalComp = Round1Comp + Round2Comp + Round3Comp\n",
    "    TOTAL = TotalComm + TotalComp\n",
    "    \n",
    "    print('Communication: ', TotalComm)\n",
    "    print('Computation:   ', TotalComp)\n",
    "    print('TOTAL:         ', TOTAL)\n",
    "    \n",
    "    TIMES.append(TOTAL)\n",
    "    \n",
    "    print('-------------------------')"
   ]
  },
  {
   "cell_type": "code",
   "execution_count": 74,
   "metadata": {},
   "outputs": [],
   "source": [
    "TIMES_NODROP = [0.07388674828314011, 0.1343496878941854, 0.19756906032562258, 0.2630871613820394, 0.3307826439539591, 0.4035215059916179, 0.49192493756612143, 0.6749291976292927, 0.7660953362782796, 0.8991318623224894, 1.30727596282959, 1.129831826686859, 1.2296751618385315, 1.311664879322052, 1.4210659265518188, 1.8476926922798158, 2.048360300064087, 2.221667492389679, 2.4300354599952696]\n",
    "TIMES_1DROP = [2.127843964099884, 2.1894618391990663, 2.2528095960617063, 2.318165647983551, 2.3808699250221252, 2.4624298453330993, 2.581611490249634, 2.6571616172790526, 2.735263657569885, 2.8240065693855283, 2.9129442214965815, 2.990540826320648, 3.075046038627624, 3.1571557998657225, 3.417460286617279, 3.5475353837013244, 3.6774542689323426, 3.8133841872215273]"
   ]
  },
  {
   "cell_type": "code",
   "execution_count": 75,
   "metadata": {},
   "outputs": [
    {
     "data": {
      "text/plain": [
       "[<matplotlib.lines.Line2D at 0x1142e58d0>]"
      ]
     },
     "execution_count": 75,
     "metadata": {},
     "output_type": "execute_result"
    },
    {
     "data": {
      "image/png": "[encoded data removed]",
      "text/plain": [
       "<Figure size 432x288 with 1 Axes>"
      ]
     },
     "metadata": {},
     "output_type": "display_data"
    }
   ],
   "source": [
    "%matplotlib inline\n",
    "import matplotlib.pyplot as plt\n",
    "plt.style.use('seaborn-whitegrid')\n",
    "\n",
    "fig = plt.figure()\n",
    "ax = plt.axes()\n",
    "\n",
    "x = list(range(2,21))\n",
    "\n",
    "ax.plot(x, TIMES_NODROP)\n",
    "ax.plot(x[1:], TIMES_1DROP)"
   ]
  },
  {
   "cell_type": "code",
   "execution_count": null,
   "metadata": {},
   "outputs": [],
   "source": []
  }
 ],
 "metadata": {
  "kernelspec": {
   "display_name": "Python 3",
   "language": "python",
   "name": "python3"
  },
  "language_info": {
   "codemirror_mode": {
    "name": "ipython",
    "version": 3
   },
   "file_extension": ".py",
   "mimetype": "text/x-python",
   "name": "python",
   "nbconvert_exporter": "python",
   "pygments_lexer": "ipython3",
   "version": "3.6.5"
  }
 },
 "nbformat": 4,
 "nbformat_minor": 2
}
